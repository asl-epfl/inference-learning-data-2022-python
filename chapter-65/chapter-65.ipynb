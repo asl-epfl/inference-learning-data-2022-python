{
 "cells": [
  {
   "cell_type": "markdown",
   "metadata": {},
   "source": [
    "# Chapter 65: Feedforward Neural Networks"
   ]
  },
  {
   "cell_type": "markdown",
   "metadata": {},
   "source": [
    "### Runs simulations for Examples 8 and 9 in Chapter 65: Support Vector Machines (vol. III)\n",
    "TEXT: A. H. Sayed, INFERENCE AND LEARNING FROM DATA, Cambridge University Press, 2022."
   ]
  },
  {
   "cell_type": "markdown",
   "metadata": {},
   "source": [
    "<div style=\"text-align: justify\">\n",
    "DISCLAIMER:  This computer code is  provided  \"as is\"   without  any  guarantees.\n",
    "Practitioners  should  use it  at their own risk.  While  the  codes in  the text \n",
    "are useful for instructional purposes, they are not intended to serve as examples \n",
    "of full-blown or optimized designs. The author has made no attempt at optimizing \n",
    "the codes, perfecting them, or even checking them for absolute accuracy. In order \n",
    "to keep the codes at a level  that is  easy to follow by students, the author has \n",
    "often chosen to  sacrifice  performance or even programming elegance in  lieu  of \n",
    "simplicity. Students can use the computer codes to run variations of the examples \n",
    "shown in the text. \n",
    "</div>\n",
    "\n",
    "The Jupyter notebook and python codes are developed by Eduardo Faria Cabrera"
   ]
  },
  {
   "cell_type": "markdown",
   "metadata": {},
   "source": [
    "required libraries:\n",
    "    \n",
    "1. numpy\n",
    "2. matplotlib\n",
    "3. scipy\n",
    "4. tqdm"
   ]
  },
  {
   "cell_type": "code",
   "execution_count": 1,
   "metadata": {},
   "outputs": [],
   "source": [
    "import numpy as np\n",
    "import matplotlib.pyplot as plt\n",
    "import scipy\n",
    "from tqdm import tqdm\n",
    "\n",
    "from functions import *"
   ]
  },
  {
   "cell_type": "markdown",
   "metadata": {},
   "source": [
    "## Sigmoid and tanh functions"
   ]
  },
  {
   "cell_type": "markdown",
   "metadata": {},
   "source": [
    "There are several common choices for the activation function $f(z)$, listed in Table 65.2, with some of them illustrated in Fig. 65.2. We encountered the sigmoid function earlier in (59.5a) while discussing the logistic regression problem. One useful property of the sigmoid function is that its derivative admits the representation\n",
    "\n",
    "$\n",
    "f'(z)=f(z)(1-f(z))\\;\\;\\;\\;\\;(\\textnormal{sigmoid function})\n",
    "$\n",
    "\n",
    "We also encountered the hyperbolic tangent function  earlier in (27.33) while studying the optimal mean-square-error (MSE)  inference problem. Its derivative is given by any of the forms:\n",
    "\n",
    "$\n",
    "f'(z)=1/\\cosh^2(z)\\\\\n",
    "=4/(e^z+e^{-z})^2\\\\\n",
    "=1-(\\textnormal{tanh}(z))^2\\;\\;\\;\\;\\;(\\textnormal{tanh function})\n",
    "$\n",
    "\n",
    "The sigmoid and tanh functions are related via the translation\n",
    "\n",
    "$\n",
    "\\frac{1}{1+e^{-z}}=\\frac{1}{2}\\left(\\tanh\\left(z/2\\right)+1\\right)\n",
    "\\Longleftrightarrow\\;\\textnormal{tanh}(z/2)=2\\,\\textnormal{sigmoid}(z)-1\n",
    "$\n",
    "\n",
    "and satisfy\n",
    "\n",
    "$\n",
    "(\\textnormal{sigmoid function})\\; \\lim_{z\\rightarrow+\\infty} f(z)=1,\\;\\;\\;\\; \\lim_{z\\rightarrow-\\infty} f(z)=0\\\\\n",
    "(\\textnormal{tanh function})\\; \\lim_{z\\rightarrow+\\infty} f(z)=1,\\;\\;\\;\\; \\lim_{z\\rightarrow-\\infty} f(z)=-1\n",
    "$\n",
    "\n",
    "That is, both functions saturate for large $|z|$. This means that when $|z|$ is large, the derivatives of the sigmoid and tanh functions will assume small values close to $0$. We will explain in  Section 65.8 that this property is problematic and is responsible for a $\\textit{slowdown}$ in the speed of learning by neural networks. This is because  small derivative values at any neuron will end up limiting the learning ability of the neurons in the preceding layers."
   ]
  },
  {
   "cell_type": "markdown",
   "metadata": {},
   "source": [
    "The scaled hyperbolic tangent function, $f(z)=a\\tanh(bz)$, maps the real axis to the interval $[-a,a]$ and, therefore, it saturates at $\\pm a$ for large values of $z$. Typical choices for the parameters $(a,b)$ are\n",
    "\n",
    "$$\n",
    "b=\\frac{2}{3},\\;\\;\\;\\;a=\\frac{1}{\\tanh(2/3)}\\approx 1.7159 \\tag{65.10}\n",
    "$$\n",
    "\n",
    "With these values, one finds that $f(\\pm 1)=\\pm 1$. In other words, when the input value $z$ approaches $\\pm 1$ (which are common values in binary classification problems), then the scaled hyperbolic tangent will assume the same values $\\pm 1$, which are sufficiently away from the saturation levels of $\\pm 1.7159$.\n",
    "\n",
    "$$\n",
    "\\begin{array}{c|c}\n",
    "\\textnormal{Activation Function} & f(z) \\\\ \\hline \\\\\n",
    "\\textnormal{sigmoid or logistic} & f(z)=\\dfrac{1}{1+e^{-z}} \\\\ \\\\\n",
    "\\textnormal{softplus} & f(z)=\\ln(1+e^z) \\\\ \\\\\n",
    "\\textnormal{hyperbolic tangent (tanh)} & f(z)=\\tanh(z)\\overset{\\Delta}{=}\\dfrac{e^z-e^{-z}}{e^z+e^{-z}} \\\\ \\\\\n",
    "\\textnormal{scaled tanh} & f(z)=a\\tanh(bz), a,b>0 \\\\ \\\\\n",
    "\\textnormal{ReLU (hinge)} & (z)=\\max\\,\\{0,z\\} \\\\ \\\\ \n",
    "\\textnormal{leaky  ReLU} & f(z) = \\left\\{ \\begin{array}{ll} z, & z\\geq 0 \\\\ 0.01z, & z < 0\\end{array} \\right.\\ \\\\ \\\\ \n",
    "\\textnormal{ELU} & f(z) = \\left\\{ \\begin{array}{ll} z, & z\\geq 0 \\\\ \\alpha (e^z-1), & z < 0\\end{array} \\right.\\ \\\\ \\\\\n",
    "\\textnormal{no activation} & f(z) = z\n",
    "\\end{array}\n",
    "$$"
   ]
  },
  {
   "cell_type": "markdown",
   "metadata": {},
   "source": [
    "## ReLU and leaky ReLU functions"
   ]
  },
  {
   "cell_type": "markdown",
   "metadata": {},
   "source": [
    "In the rectifier (or hinge) function listed in Table 65.1 (also called a \"rectified linear unit\" or  ReLU function), nonnegative values of $z$ remain unaltered while negative values of $z$ are set to zero. In this case, we set the derivative value at $z=0$ to $f'(0)=0$ by convention (we could also set it to 1, if desired):\n",
    "\n",
    "$$\n",
    "f(z)=  \\textnormal{ReLU} (z)\\;\\Longrightarrow\\;f'(z)=\n",
    "\\left\\{\n",
    "\\begin{array}{ll}0,&z<0\\\\0,&z=0\\\\1,&z>0\\end{array}\n",
    "\\right. \\tag{65.11}\n",
    "$$\n",
    "\n",
    "Compared with the sigmoid function, we observe that the derivative of  ReLU is constant and equal to 1 for all positive values of $z$; this property will help speed up the training of neural networks and is one of the main reasons why  ReLU activation functions are generally preferred over sigmoid functions.  ReLU functions are also easy to implement and do not require the exponentiation operation that appears in the sigmoid implementation. \n",
    "\n",
    "Unfortunately, the derivative of the  ReLU function is zero for negative values of $z$, which will affect training when internal values in the network drop below zero. These nodes will not be able to continue learning and recover from their state of negative $z$ -values. This challenge is referred to as the \"dying  ReLU\" problem. The softplus function provides a smooth approximation for the rectifier function, tending to zero gracefully as $z\\rightarrow-\\infty$.  The leaky ReLU version, on the other hand, incorporates a small positive gradient for $z<0$:\n",
    "\n",
    "$$\n",
    "f(z)=\\textnormal{leaky  ReLU(z)}\\;\\Longrightarrow\\;f'(z)=\n",
    "\\left\\{\n",
    "\\begin{array}{ll}0.01,&z<0\\\\0,&z=0\\\\1,&z>0\\end{array}\n",
    "\\right. \\tag{65.11}\n",
    "$$\n",
    "\n",
    "The exponential linear unit (ELU) also addresses the problem over negative $z$ by incorporating an exponential decay term such that as $z\\rightarrow-\\infty$, the function ELU $(z)$ will tend to - $\\alpha$ where $\\alpha>0$. The value of $\\alpha$ can be selected through a (cross validation) training process by simulating the performance of the neural network with different choices for $\\alpha$. The rectifier functions are widely used within hidden layers in the training of deep and convolutional neural networks. ELU activation functions have been observed to lead to neural networks with higher classification performance than   ReLUs. "
   ]
  },
  {
   "cell_type": "code",
   "execution_count": 2,
   "metadata": {},
   "outputs": [],
   "source": [
    "z = np.arange(-5, 5, 0.01)\n",
    "\n",
    "sigmoid = 1/(1+np.exp(-z))\n",
    "hytanh = (np.exp(z)-np.exp(-z))/(np.exp(z)+np.exp(-z))\n",
    "rect = z*(z > 0)\n",
    "rectpsoft = np.log(1+np.exp(z))\n",
    "\n",
    "sigmoiddiff = sigmoid*(1-sigmoid)\n",
    "hytanhdiff = 4/((np.exp(z)+np.exp(-z))**2)\n",
    "rectdiff = 1*(z>0)\n",
    "rectpsoftdiff = 1/(1+np.exp(-z))"
   ]
  },
  {
   "cell_type": "code",
   "execution_count": 3,
   "metadata": {},
   "outputs": [
    {
     "data": {
      "image/png": "[encoded data removed]",
      "text/plain": [
       "<Figure size 1000x700 with 6 Axes>"
      ]
     },
     "metadata": {},
     "output_type": "display_data"
    }
   ],
   "source": [
    "# figure 2 (activation functions and their derivatives)\n",
    "\n",
    "plt.rcParams.update({\n",
    "    \"text.usetex\": True,\n",
    "    \"font.family\": \"sans-serif\",\n",
    "    \"font.sans-serif\": \"Helvetica\",\n",
    "})\n",
    "\n",
    "plt.rcParams['figure.figsize']=10, 7\n",
    "fig = plt.figure()\n",
    "\n",
    "ax = fig.add_subplot(231)\n",
    "ax.plot(z, sigmoid, linewidth=2)\n",
    "ax.set_xlabel(\"$z$\", fontsize=10)\n",
    "ax.set_ylabel(\"$f(z)$\", fontsize=10)\n",
    "ax.set_title(\"sigmoid\", fontsize=12)\n",
    "plt.grid(zorder=0, alpha=0.5)\n",
    "ax.spines[['right', 'top']].set_visible(False)\n",
    "\n",
    "ax = fig.add_subplot(232)\n",
    "ax.plot(z, hytanh, linewidth=2)\n",
    "ax.set_xlabel(\"$z$\", fontsize=10)\n",
    "ax.set_title(\"tanh\", fontsize=12)\n",
    "plt.grid(zorder=0, alpha=0.5)\n",
    "ax.spines[['right', 'top']].set_visible(False)\n",
    "\n",
    "ax = fig.add_subplot(233)\n",
    "ax.plot(z, rectpsoft, label=\"softplus\", linewidth=2)\n",
    "ax.plot(z, rect, label=\"rectfier\", color=\"tab:red\", linestyle=\"dashed\", linewidth=2)\n",
    "ax.set_xlabel(\"$z$\", fontsize=10)\n",
    "ax.set_title(\"rectifier+softplus\", fontsize=12)\n",
    "plt.grid(zorder=0, alpha=0.5)\n",
    "ax.spines[['right', 'top']].set_visible(False)\n",
    "plt.legend()\n",
    "\n",
    "ax = fig.add_subplot(234)\n",
    "ax.plot(z, sigmoiddiff, linewidth=2, color=\"tab:orange\")\n",
    "ax.set_xlabel(\"$z$\", fontsize=10)\n",
    "ax.set_ylabel(\"$f(z)$\", fontsize=10)\n",
    "ax.set_title(\"derivative sigmoid\", fontsize=12)\n",
    "plt.grid(zorder=0, alpha=0.5)\n",
    "ax.spines[['right', 'top']].set_visible(False)\n",
    "\n",
    "ax = fig.add_subplot(235)\n",
    "ax.plot(z, hytanhdiff, linewidth=2, color=\"tab:orange\")\n",
    "ax.set_xlabel(\"$z$\", fontsize=10)\n",
    "ax.set_title(\"derivative tanh\", fontsize=12)\n",
    "plt.grid(zorder=0, alpha=0.5)\n",
    "ax.spines[['right', 'top']].set_visible(False)\n",
    "\n",
    "ax = fig.add_subplot(236)\n",
    "ax.plot(z, rectpsoftdiff, label=\"softplus\", linewidth=2, color=\"tab:orange\")\n",
    "ax.plot(z, rectdiff, label=\"rectfier\", color=\"tab:purple\", linestyle=\"dashed\", linewidth=2)\n",
    "ax.set_xlabel(\"$z$\", fontsize=10)\n",
    "ax.set_title(\"derivatives\", fontsize=12)\n",
    "plt.grid(zorder=0, alpha=0.5)\n",
    "ax.spines[['right', 'top']].set_visible(False)\n",
    "plt.legend()\n",
    "\n",
    "plt.tight_layout()\n",
    "\n",
    "plt.savefig(\"figs/fig-2.pdf\", format=\"pdf\", bbox_inches=\"tight\")\n",
    "\n",
    "plt.show()"
   ]
  },
  {
   "cell_type": "markdown",
   "metadata": {},
   "source": [
    "**Figure 65.2** Examples of activation functions and their derivatives. ($\\textit{Left}$) Sigmoid function. ($\\textit{Center}$) Hyperbolic tangent function. ($\\textit{Right}$) Rectifier and softplus functions."
   ]
  },
  {
   "cell_type": "markdown",
   "metadata": {},
   "source": [
    "## Example 65.9 (Classification of handwritten digits)"
   ]
  },
  {
   "cell_type": "markdown",
   "metadata": {},
   "source": [
    "We illustrate the operation of a neural network by applying it to the problem of identifying handwritten digits using \n",
    "the same MNIST dataset considered earlier in Example 52.3. The dataset consists of 60,000 labeled training samples and 10,000 labeled testing samples. Each entry in the dataset is a 28 $\\times$ 28 grayscale image, which we transform into an $M=784-$long feature vector, $h_n$. Each pixel in the image and, therefore, each entry in $h_n$, assumes integer values in the range $[0,255]$. Every feature vector (or image) is assigned an integer label in the range 0--9, depending on which digit the image corresponds to. The earlier Fig. 52.6, which is repeated here as Fig. 65.12, shows randomly selected images from the training dataset.\n",
    "\n",
    "We pre-process the images (or the corresponding feature vectors $\\{h_n\\}$) by scaling their entries by $255$ (so that they assume values in the range $[0,1]$). We subsequently compute the mean feature vectors for both the training and test sets. We center the scaled feature vectors around these means in both sets. The earlier Fig. 52.7 showed randomly selected images for the digits $\\{0,1\\}$ before and after processing.  \n",
    " \n",
    " \n",
    "We construct a neural network with a total of four layers: one input layer, one output layer, and two hidden layers. The size of the input layer is $n_1=784$ (which agrees with the size of the feature vectors), while the size of the output layer is $n_4=10$ (which agrees with the number of classes). The size of the hidden layers is set to $n_2=n_3=512$ neurons. We  employ a softmax layer at the output  and train  the network using a regularized cross-entropy criterion with parameters\n",
    "\n",
    "$$\n",
    "\\mu=0.001,\\;\\;\\;\\rho=0.0001 \\tag{65.151}\n",
    "$$\n",
    "\n",
    "We run $P=200$ passes of the stochastic-gradient algorithm (65.150) over the training data, with the data being randomly reshuffled at the start of each pass. At the end of the training phase, we evaluate the empirical error rate over the 10,000 test samples, as well as over the 60,000 training samples. We simulate three different scenarios where we vary the nonlinearity at the output of the internal neurons: sigmoid, rectifier, and tanh. We also simulate a dropout implementation with $p_{1}=0.1$ for the input layer and $p_2=p_3=0.5$ for the two hidden layers; in this last simulation, we use the sigmoid activation function for the internal nodes and perform the same number of  passes, 200,  over the data. The results are summarized in \n",
    "Table 65.3. The performance under dropout can be improved by using a larger number of passes due to the slower convergence in this case. \n",
    "\n",
    "$$\n",
    "\\begin{array}{|c|c|c|c|c|}\n",
    "\\hline\n",
    "\\textnormal{Nonlinearity} & \\textnormal{Empirical test error number (\\%)} & \\textnormal{Number of test errors} & \\textnormal{Empirical training error (\\%)} & \\textnormal{Number of training errors} \\\\ \\hline \n",
    "\\textnormal{sigmoid} & 2.18\\% & 218 & 1.02\\% & 613 \\\\ \n",
    "\\textnormal{tanh} & 1.84\\% & 184 & 0.00167\\% & 1 \\\\\n",
    "\\textnormal{rectifier} & 1.82\\% & 182 & 0.00167\\% & 1 \\\\ \\hline \n",
    "\\textnormal{dropout} & 6.22\\% & 622 & 6.25\\% & 3752 \\\\ \\hline\n",
    "\\end{array}\n",
    "$$"
   ]
  },
  {
   "cell_type": "code",
   "execution_count": 4,
   "metadata": {},
   "outputs": [],
   "source": [
    "# The user can set five flags:\n",
    "\n",
    "# 1) input data: MNIST or CIFAR10\n",
    "choose_data = 1  # 1 = MNIST,  2 = CIFAR\n",
    "\n",
    "# 2) Use dropout or not\n",
    "dropout = 1  # 1: use dropout; 0: do not use dropout\n",
    "\n",
    "# 3) type of risk function\n",
    "type_ = 3  # 1: sigmoid, 2: tanh, 3: rectifier\n",
    "\n",
    "# 4) type of risk function\n",
    "cost = 1  # 0: least-squares, 1: cross-entropy\n",
    "\n",
    "# 5) Choose if the output layer should be softmax\n",
    "softmax = 1  # set to 1 to use softmax; otherwise set to zero\n",
    "\n",
    "if choose_data == 1:\n",
    "    # MNIST dataset\n",
    "    mnist_data = scipy.io.loadmat(\"data/mnist_normalized.mat\") # loaded mnist data; features are centered and variance-normalized\n",
    "    features_train = mnist_data[\"train_features_norm\"] # 60,000 x 784\n",
    "    labels_train = mnist_data[\"train_norm_labels\"] # 10 digit labels \n",
    "    features_test = mnist_data[\"test_features_norm\"] # 10,000 x 784\n",
    "    labels_test = mnist_data[\"test_norm_labels\"] # 10 digit labels\n",
    "\n",
    "    n2 = 512 # number of nodes in hidden layer 2\n",
    "    n3 = 512 # number of nodes in hidden layer 3\n",
    "\n",
    "else:\n",
    "    # CIFAR-10 dataset\n",
    "    data_batch_1 = scipy.io.loadmat(\"data/data_batch_1_normalized.mat\") #loaded CIFAR-10 data; features are centered and variance-normalized.\n",
    "    features_train = data_batch_1[\"train_features_norm_1\"] # 10,000 x 3072\n",
    "    labels_train = data_batch_1[\"train_labels_norm_1\"] # labels 0, 1, ..., 9\n",
    "\n",
    "    data_batch_2 = scipy.io.loadmat(\"data/data_batch_2_normalized.mat\") #loaded CIFAR-10 data; features are centered and variance-normalized.\n",
    "    features_train = np.concatenate([features_train, data_batch_2[\"train_features_norm_2\"]]) # 10,000 x 3072\n",
    "    labels_train = np.concatenate([labels_train, data_batch_2[\"train_labels_norm_2\"]]) # labels 0, 1, ..., 9\n",
    "\n",
    "    data_batch_3 = scipy.io.loadmat(\"data/data_batch_3_normalized.mat\") #loaded CIFAR-10 data; features are centered and variance-normalized.\n",
    "    features_train = np.concatenate([features_train, data_batch_3[\"train_features_norm_3\"]]) # 10,000 x 3072\n",
    "    labels_train = np.concatenate([labels_train, data_batch_3[\"train_labels_norm_3\"]]) # labels 0, 1, ..., 9\n",
    "\n",
    "    data_batch_4 = scipy.io.loadmat(\"data/data_batch_4_normalized.mat\") #loaded CIFAR-10 data; features are centered and variance-normalized.\n",
    "    features_train = np.concatenate([features_train, data_batch_4[\"train_features_norm_4\"]]) # 10,000 x 3072\n",
    "    labels_train = np.concatenate([labels_train, data_batch_4[\"train_labels_norm_4\"]]) # labels 0, 1, ..., 9\n",
    "\n",
    "    data_batch_5 = scipy.io.loadmat(\"data/data_batch_5_normalized.mat\") #loaded CIFAR-10 data; features are centered and variance-normalized.\n",
    "    features_train = np.concatenate([features_train, data_batch_5[\"train_features_norm_5\"]]) # 10,000 x 3072\n",
    "    labels_train = np.concatenate([labels_train, data_batch_5[\"train_labels_norm_5\"]]) # labels 0, 1, ..., 9\n",
    "\n",
    "    test_data_batch = scipy.io.loadmat(\"data/test_batch_normalized.mat\") # loaded CIFAR-10 data; features are centered and variance-normalized.\n",
    "    features_test = test_data_batch[\"test_features_norm\"]\n",
    "    labels_test = test_data_batch[\"test_labels_norm\"]\n",
    "\n",
    "    n2 = 2048 # number of nodes in hidden layer 2\n",
    "    n3 = 2048 # number of nodes in hidden layer 3\n",
    "\n",
    "number_of_classes = 10\n",
    "mu = 0.001 # step-size\n",
    "rho = 0.0001 # l2-regularization\n",
    "number_of_passes = 200 # epochs\n",
    "\n",
    "# dropout parameters\n",
    "p_vec = [0.1, 0.5, 0.5] # Bernoulli probabilities for input layer and the two hidden layers value of p = probability of node turned off\n",
    "\n",
    "# Choose type of activation function\n",
    "if type_ == 1: #1: sigmoid, 2: tanh, 3: rectifier\n",
    "    activation = \"sigmoid\"\n",
    "elif type_ == 2:\n",
    "    activation = \"tanh\" \n",
    "elif type_ == 3:\n",
    "    activation = \"rectifier\"\n",
    "\n",
    "if cost == 1: # to make sure that when cross-entropy is used, softmax is also used\n",
    "    softmax = 1\n",
    "\n",
    "if activation == \"rectifier\": # to make sure that when rectifier is used, softmax is also used\n",
    "    softmax = 1\n",
    "\n",
    "L = 4 # total number of layers, including input and output layers --> L-2 hidden layers"
   ]
  },
  {
   "cell_type": "code",
   "execution_count": 60,
   "metadata": {},
   "outputs": [
    {
     "name": "stderr",
     "output_type": "stream",
     "text": [
      "100%|██████████| 60000/60000 [05:59<00:00, 167.08it/s]\n",
      "100%|██████████| 60000/60000 [06:03<00:00, 165.09it/s]\n",
      "100%|██████████| 60000/60000 [05:47<00:00, 172.59it/s]\n",
      "100%|██████████| 60000/60000 [05:50<00:00, 171.27it/s]\n",
      "100%|██████████| 60000/60000 [05:47<00:00, 172.46it/s]\n",
      "100%|██████████| 60000/60000 [06:05<00:00, 164.15it/s]\n",
      "100%|██████████| 60000/60000 [06:07<00:00, 163.11it/s]\n",
      "100%|██████████| 60000/60000 [05:36<00:00, 178.40it/s]\n",
      "100%|██████████| 60000/60000 [05:17<00:00, 188.82it/s]\n",
      "100%|██████████| 60000/60000 [06:03<00:00, 165.17it/s]\n"
     ]
    }
   ],
   "source": [
    "number_of_passes = 10\n",
    "Wcell, ThetaCell = train_feedforward_neural_network(\n",
    "    L, number_of_classes, mu, rho, number_of_passes, features_train, labels_train,\n",
    "    n2, n3, dropout, activation, softmax, p_vec, cost)"
   ]
  },
  {
   "cell_type": "code",
   "execution_count": 63,
   "metadata": {},
   "outputs": [
    {
     "name": "stderr",
     "output_type": "stream",
     "text": [
      "100%|██████████| 10000/10000 [00:06<00:00, 1633.22it/s]"
     ]
    },
    {
     "name": "stdout",
     "output_type": "stream",
     "text": [
      "Dropout:  1\n",
      "Numver of test points, number of errors, empirical error on test data:\n",
      "10000 508 5.08\n"
     ]
    },
    {
     "name": "stderr",
     "output_type": "stream",
     "text": [
      "\n"
     ]
    }
   ],
   "source": [
    "N_test = features_test.shape[0]\n",
    "test_error = get_inference_error(L, features_test, labels_test, number_of_classes, Wcell, ThetaCell, softmax, activation)\n",
    "print(\"Dropout: \", dropout)\n",
    "print(\"Numver of test points, number of errors, empirical error on test data:\")\n",
    "print(N_test, test_error, (test_error/N_test)*100)"
   ]
  },
  {
   "cell_type": "code",
   "execution_count": 64,
   "metadata": {},
   "outputs": [
    {
     "name": "stderr",
     "output_type": "stream",
     "text": [
      "100%|██████████| 60000/60000 [00:33<00:00, 1770.09it/s]"
     ]
    },
    {
     "name": "stdout",
     "output_type": "stream",
     "text": [
      "Number of passes:  10\n",
      "Number of test points, number of errors, empirical error on train data:\n",
      "60000 3141 5.235\n"
     ]
    },
    {
     "name": "stderr",
     "output_type": "stream",
     "text": [
      "\n"
     ]
    }
   ],
   "source": [
    "N_train = features_train.shape[0]\n",
    "train_error = get_inference_error(L, features_train, labels_train, number_of_classes, Wcell, ThetaCell, softmax, activation)\n",
    "print(\"Number of passes: \", number_of_passes)\n",
    "print(\"Number of test points, number of errors, empirical error on train data:\")\n",
    "print(N_train, train_error, (train_error/N_train)*100)"
   ]
  },
  {
   "cell_type": "markdown",
   "metadata": {},
   "source": [
    "## Example 10 (Classification of tiny color images)"
   ]
  },
  {
   "cell_type": "markdown",
   "metadata": {},
   "source": [
    "We again illustrate the operation of neural networks by applying them to the problem of classifying color images into 1 of 10 classes using the CIFAR-10 dataset. This dataset consists of color images that can belong to 1 of $10$ classes: airplanes, automobiles, birds, cats, deer, dogs, frogs, horses, ships, and trucks. Figure 65.13 shows random selections of images  from the dataset. The images in the dataset have low resolution and that is why they appear blurred.\n",
    "\n",
    "There are 6,000 images per class for a total of 60,000 images in the dataset.\n",
    "There are 50,000 training images and 10,000 test images. There are 1,000 random images from each class in the test collection of 10,000 images. The training images are divided into 5 batches of 10,000 images each. Each training batch may contain more images from one class or another. \n",
    "\n",
    "Each image has size 32 $\\times$ 32 in the red, green, and blue color channels, which we transform into an $M=32\\times 32\\times 3 = 3072-$long feature vector, $h_n$. Each pixel in the image assumes integer values in the range $[0,255]$.  Each feature vector (or image) is assigned an integer class label in the range 0--9. We pre-process the images (or the corresponding feature vectors $\\{h_n\\}$) by scaling their entries by $255$ (so that they assume values in the range $[0,1]$). We subsequently compute the mean feature vectors for the training and test sets and center the scaled feature vectors in both sets around these means.\n",
    "\n",
    "We construct a neural network with a total of four layers: one input layer, one output layer, and two hidden layers. The size of the input layer is $n_1=3072$ (which agrees with the size of the feature vectors), while the size of the output layer is $n_4=10$ (which agrees with the number of classes). The size of the hidden layers is set to $n_2=n_3=2048$ neurons. We employ a softmax layer at the output of the network, and rectifier units at the internal neurons. We train  the network using a regularized cross-entropy criterion with parameters\n",
    "\n",
    "$\n",
    "\\mu=0.001,\\;\\;\\;\\rho=0.0001 \n",
    "$\n",
    "\n",
    "We run a stochastic-gradient version of the backpropagation algorithm (65.82) with mini-batches of size equal to one sample, and adjusted to the cross-entropy scenario where the boundary condition $\\delta_{L,b}$ is replaced by\n",
    "\n",
    "$\n",
    "\\delta_{L,b}=\\widehat{\\gamma}_b-\\gamma_b\n",
    "$\n",
    "\n",
    "We run $P=200$ passes of the stochastic-gradient algorithm (65.150) over the training data, with the data being randomly reshuffled at the start of each pass.  At the end of the training phase, we evaluate the empirical error rate over the 10,000 test samples and also over the 50,000 training samples. We also simulate a dropout implementation with $p_{1}=0.1$ for the input layer and $p_2=p_3=0.5$ for the two hidden layers using now $P=300$ passes over the data. The results are summarized in \n",
    "Table 65.4. It is seen from the results on the test data that this is a more challenging classification problem. We will revisit this problem in a future chapter when we study convolutional neural networks.\n",
    "\n",
    "$\n",
    "\\begin{array}{|c|c|c|c|c|}\n",
    "\\hline\n",
    "\\textnormal{Nonlinearity} & \\textnormal{Empirical test error number (\\%)} & \\textnormal{Number of test errors} & \\textnormal{Empirical training error (\\%)} & \\textnormal{Number of training errors} \\\\ \\hline \n",
    "\\textnormal{w/o dropout} & 42.28\\% & 4228 & 0.02\\% & 10 \\\\ \n",
    "\\textnormal{w/ dropoout} & 42.92\\% & 4292 & 5.62\\% & 2810 \\\\ \\hline\n",
    "\\end{array}\n",
    "$"
   ]
  },
  {
   "cell_type": "code",
   "execution_count": 65,
   "metadata": {},
   "outputs": [],
   "source": [
    "# The user can set five flags:\n",
    "\n",
    "# 1) input data: MNIST or CIFAR10\n",
    "choose_data = 0  # 1 = MNIST,  2 = CIFAR\n",
    "\n",
    "# 2) Use dropout or not\n",
    "dropout = 1  # 1: use dropout; 0: do not use dropout\n",
    "\n",
    "# 3) type of risk function\n",
    "type_ = 3  # 1: sigmoid, 2: tanh, 3: rectifier\n",
    "\n",
    "# 4) type of risk function\n",
    "cost = 1  # 0: least-squares, 1: cross-entropy\n",
    "\n",
    "# 5) Choose if the output layer should be softmax\n",
    "softmax = 1  # set to 1 to use softmax; otherwise set to zero\n",
    "\n",
    "if choose_data == 1:\n",
    "    # MNIST dataset\n",
    "    mnist_data = scipy.io.loadmat(\"data/mnist_normalized.mat\") # loaded mnist data; features are centered and variance-normalized\n",
    "    features_train = mnist_data[\"train_features_norm\"] # 60,000 x 784\n",
    "    labels_train = mnist_data[\"train_norm_labels\"] # 10 digit labels \n",
    "    features_test = mnist_data[\"test_features_norm\"] # 10,000 x 784\n",
    "    labels_test = mnist_data[\"test_norm_labels\"] # 10 digit labels\n",
    "\n",
    "    n2 = 512 # number of nodes in hidden layer 2\n",
    "    n3 = 512 # number of nodes in hidden layer 3\n",
    "\n",
    "else:\n",
    "    # CIFAR-10 dataset\n",
    "    data_batch_1 = scipy.io.loadmat(\"data/data_batch_1_normalized.mat\") #loaded CIFAR-10 data; features are centered and variance-normalized.\n",
    "    features_train = data_batch_1[\"train_features_norm_1\"] # 10,000 x 3072\n",
    "    labels_train = data_batch_1[\"train_labels_norm_1\"] # labels 0, 1, ..., 9\n",
    "\n",
    "    data_batch_2 = scipy.io.loadmat(\"data/data_batch_2_normalized.mat\") #loaded CIFAR-10 data; features are centered and variance-normalized.\n",
    "    features_train = np.concatenate([features_train, data_batch_2[\"train_features_norm_2\"]]) # 10,000 x 3072\n",
    "    labels_train = np.concatenate([labels_train, data_batch_2[\"train_labels_norm_2\"]]) # labels 0, 1, ..., 9\n",
    "\n",
    "    data_batch_3 = scipy.io.loadmat(\"data/data_batch_3_normalized.mat\") #loaded CIFAR-10 data; features are centered and variance-normalized.\n",
    "    features_train = np.concatenate([features_train, data_batch_3[\"train_features_norm_3\"]]) # 10,000 x 3072\n",
    "    labels_train = np.concatenate([labels_train, data_batch_3[\"train_labels_norm_3\"]]) # labels 0, 1, ..., 9\n",
    "\n",
    "    data_batch_4 = scipy.io.loadmat(\"data/data_batch_4_normalized.mat\") #loaded CIFAR-10 data; features are centered and variance-normalized.\n",
    "    features_train = np.concatenate([features_train, data_batch_4[\"train_features_norm_4\"]]) # 10,000 x 3072\n",
    "    labels_train = np.concatenate([labels_train, data_batch_4[\"train_labels_norm_4\"]]) # labels 0, 1, ..., 9\n",
    "\n",
    "    data_batch_5 = scipy.io.loadmat(\"data/data_batch_5_normalized.mat\") #loaded CIFAR-10 data; features are centered and variance-normalized.\n",
    "    features_train = np.concatenate([features_train, data_batch_5[\"train_features_norm_5\"]]) # 10,000 x 3072\n",
    "    labels_train = np.concatenate([labels_train, data_batch_5[\"train_labels_norm_5\"]]) # labels 0, 1, ..., 9\n",
    "\n",
    "    test_data_batch = scipy.io.loadmat(\"data/test_batch_normalized.mat\") # loaded CIFAR-10 data; features are centered and variance-normalized.\n",
    "    features_test = test_data_batch[\"test_features_norm\"]\n",
    "    labels_test = test_data_batch[\"test_labels_norm\"]\n",
    "\n",
    "    n2 = 2048 # number of nodes in hidden layer 2\n",
    "    n3 = 2048 # number of nodes in hidden layer 3\n",
    "\n",
    "number_of_classes = 10\n",
    "mu = 0.001 # step-size\n",
    "rho = 0.0001 # l2-regularization\n",
    "number_of_passes = 200 # epochs\n",
    "\n",
    "# dropout parameters\n",
    "p_vec = [0.1, 0.5, 0.5] # Bernoulli probabilities for input layer and the two hidden layers value of p = probability of node turned off\n",
    "\n",
    "# Choose type of activation function\n",
    "if type_ == 1: #1: sigmoid, 2: tanh, 3: rectifier\n",
    "    activation = \"sigmoid\"\n",
    "elif type_ == 2:\n",
    "    activation = \"tanh\" \n",
    "elif type_ == 3:\n",
    "    activation = \"rectifier\"\n",
    "\n",
    "if cost == 1: # to make sure that when cross-entropy is used, softmax is also used\n",
    "    softmax = 1\n",
    "\n",
    "if activation == \"rectifier\": # to make sure that when rectifier is used, softmax is also used\n",
    "    softmax = 1\n",
    "\n",
    "L = 4 # total number of layers, including input and output layers --> L-2 hidden layers"
   ]
  },
  {
   "cell_type": "code",
   "execution_count": 66,
   "metadata": {},
   "outputs": [
    {
     "name": "stderr",
     "output_type": "stream",
     "text": [
      "100%|██████████| 50000/50000 [1:20:53<00:00, 10.30it/s]\n",
      "100%|██████████| 50000/50000 [1:18:55<00:00, 10.56it/s]\n",
      "100%|██████████| 50000/50000 [1:18:55<00:00, 10.56it/s]\n",
      "100%|██████████| 50000/50000 [1:21:18<00:00, 10.25it/s]  \n",
      "100%|██████████| 50000/50000 [1:18:36<00:00, 10.60it/s]\n",
      "100%|██████████| 50000/50000 [1:18:16<00:00, 10.65it/s]\n",
      "100%|██████████| 50000/50000 [1:18:06<00:00, 10.67it/s]\n",
      "100%|██████████| 50000/50000 [1:18:04<00:00, 10.67it/s]\n",
      "100%|██████████| 50000/50000 [1:18:04<00:00, 10.67it/s]\n",
      "100%|██████████| 50000/50000 [1:18:03<00:00, 10.68it/s]\n"
     ]
    }
   ],
   "source": [
    "number_of_passes = 10\n",
    "Wcell, ThetaCell = train_feedforward_neural_network(\n",
    "    L, number_of_classes, mu, rho, number_of_passes, features_train, labels_train,\n",
    "    n2, n3, dropout, activation, softmax, p_vec, cost)"
   ]
  },
  {
   "cell_type": "code",
   "execution_count": 67,
   "metadata": {},
   "outputs": [
    {
     "name": "stderr",
     "output_type": "stream",
     "text": [
      "100%|██████████| 10000/10000 [00:49<00:00, 202.52it/s]"
     ]
    },
    {
     "name": "stdout",
     "output_type": "stream",
     "text": [
      "Dropout:  1\n",
      "Numver of test points, number of errors, empirical error on test data:\n",
      "10000 5626 56.26\n"
     ]
    },
    {
     "name": "stderr",
     "output_type": "stream",
     "text": [
      "\n"
     ]
    }
   ],
   "source": [
    "N_test = features_test.shape[0]\n",
    "test_error = get_inference_error(L, features_test, labels_test, number_of_classes, Wcell, ThetaCell, softmax, activation)\n",
    "print(\"Dropout: \", dropout)\n",
    "print(\"Numver of test points, number of errors, empirical error on test data:\")\n",
    "print(N_test, test_error, (test_error/N_test)*100)"
   ]
  },
  {
   "cell_type": "code",
   "execution_count": 68,
   "metadata": {},
   "outputs": [
    {
     "name": "stderr",
     "output_type": "stream",
     "text": [
      "100%|██████████| 50000/50000 [04:15<00:00, 195.40it/s]"
     ]
    },
    {
     "name": "stdout",
     "output_type": "stream",
     "text": [
      "Number of passes:  10\n",
      "Number of test points, number of errors, empirical error on train data:\n",
      "50000 28138 56.276\n"
     ]
    },
    {
     "name": "stderr",
     "output_type": "stream",
     "text": [
      "\n"
     ]
    }
   ],
   "source": [
    "N_train = features_train.shape[0]\n",
    "train_error = get_inference_error(L, features_train, labels_train, number_of_classes, Wcell, ThetaCell, softmax, activation)\n",
    "print(\"Number of passes: \", number_of_passes)\n",
    "print(\"Number of test points, number of errors, empirical error on train data:\")\n",
    "print(N_train, train_error, (train_error/N_train)*100)"
   ]
  }
 ],
 "metadata": {
  "kernelspec": {
   "display_name": "epfl",
   "language": "python",
   "name": "python3"
  },
  "language_info": {
   "codemirror_mode": {
    "name": "ipython",
    "version": 3
   },
   "file_extension": ".py",
   "mimetype": "text/x-python",
   "name": "python",
   "nbconvert_exporter": "python",
   "pygments_lexer": "ipython3",
   "version": "3.11.4"
  },
  "orig_nbformat": 4
 },
 "nbformat": 4,
 "nbformat_minor": 2
}
