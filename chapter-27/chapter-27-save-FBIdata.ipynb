{
 "cells": [
  {
   "cell_type": "markdown",
   "id": "169340ed",
   "metadata": {},
   "source": [
    "# CHAPTER 27: Mean-Square-error Inference"
   ]
  },
  {
   "cell_type": "markdown",
   "id": "dd5b74bf",
   "metadata": {},
   "source": [
    "### This code saves the FBI crime to be used in Example 2 in the chapter from Chapter 27: Mean-Square-Error Inference (vol II)\n",
    "\n",
    "TEXT: A. H. Sayed, INFERENCE AND LEARNING FROM DATA, Cambridge University Press, 2022."
   ]
  },
  {
   "cell_type": "markdown",
   "id": "1eee97cf",
   "metadata": {},
   "source": [
    "<div style=\"text-align: justify\">\n",
    "DISCLAIMER:  This computer code is  provided  \"as is\"   without  any  guarantees.\n",
    "Practitioners  should  use it  at their own risk.  While  the  codes in  the text \n",
    "are useful for instructional purposes, they are not intended to serve as examples \n",
    "of full-blown or optimized designs. The author has made no attempt at optimizing \n",
    "the codes, perfecting them, or even checking them for absolute accuracy. In order \n",
    "to keep the codes at a level  that is  easy to follow by students, the author has \n",
    "often chosen to  sacrifice  performance or even programming elegance in  lieu  of \n",
    "simplicity. Students can use the computer codes to run variations of the examples \n",
    "shown in the text. \n",
    "</div>\n",
    "\n",
    "The Jupyter notebook and python codes are developed by Semanur Avşar "
   ]
  },
  {
   "cell_type": "markdown",
   "id": "bcc49ffa",
   "metadata": {},
   "source": [
    " ### FBI crime data in the US during the period 1997-2016:\n",
    " Data extracted from Table 1 available on the site <br>\n",
    " https://ucr.fbi.gov/crime-in-the-u.s/2016/crime-in-the-u.s.-2016/tables/table-1 <br>\n",
    " <br>\n",
    " Table 1 below has 20 entries and each row has 12  columns: <br>\n",
    " 0: year <br>\n",
    " 1: population size <br>\n",
    " 2: number of violent crimes (which include murder, robbery, rape, aggravated assault) <br>\n",
    " 3: violent crime rate per 100,000 inhabitants <br>\n",
    " 4: number of murders <br>\n",
    " 5: murder rate <br>\n",
    " 6: number of robberies <br>\n",
    " 7: robbery rate <br>\n",
    " 8: number of burglaries <br>\n",
    " 9: burglary rate <br>\n",
    " 10: number of motor vehicle theft <br>\n",
    " 11: vehicle theft rate<br>\n",
    " (Jan. 2019)\n",
    " \n",
    " Save Table-1 into .npy format"
   ]
  },
  {
   "cell_type": "code",
   "execution_count": 1,
   "id": "02fe4a37",
   "metadata": {},
   "outputs": [],
   "source": [
    "import numpy as np\n",
    "\n",
    "X=np.array([[1997,267783607, 1636096,611.0,18208,6.8,498534,186.2,2460526,918.8,1354189,505.7],\n",
    "   [1998,270248003,1533887,567.6,16974,6.3,447186,165.5,2332735,863.2,1242781,459.9],\n",
    "   [1999,272690813,1426044,523.0,15522,5.7,409371,150.1,2100739,770.4,1152075,422.5],\n",
    "   [2000,281421906,1425486,506.5,15586,5.5,408016,145.0,2050992,728.8,1160002,412.2],\n",
    "   [2001,285317559,1439480,504.5,16037,5.6,423557,148.5,2116531,741.8,1228391,430.5],\n",
    "   [2002,287973924,1423677,494.4,16229,5.6,420806,146.1,2151252,747.0,1246646,432.9],\n",
    "   [2003,290788976,1383676,475.8,16528,5.7,414235,142.5,2154834,741.0,1261226,433.7],\n",
    "   [2004,293656842,1360088,463.2,16148,5.5, 401470,136.7,2144446,730.3,1237851,421.5],\n",
    "   [2005,296507061,1390745,469.0,16740,5.6,417438,140.8,2155448,726.9,1235859,416.8],\n",
    "   [2006,299398484,1435123,479.3,17309,5.8,449246,150.0,2194993,733.1,1198245,400.2],\n",
    "   [2007,301621157,1422970,471.8,17128,5.7,447324,148.3,2190198,726.1,1100472,364.9],\n",
    "   [2008,304059724,1394461,458.6,16465,5.4,443563,145.9,2228887,733.0, 959059,315.4],\n",
    "   [2009,307006550,1325896,431.9,15399,5.0,408742,133.1,2203313,717.7, 795652,259.2],\n",
    "   [2010,309330219,1251248,404.5,14722,4.8,369089,119.3,2168459,701.0, 739565,239.1],\n",
    "   [2011,311587816,1206005,387.1,14661,4.7,354746,113.9,2185140,701.3, 716508,230.0],\n",
    "   [2012,313873685,1217057,387.8,14856,4.7,355051,113.1,2109932,672.2, 723186,230.4],\n",
    "   [2013,316497531,1168298,369.1,14319,4.5,345093,109.0,1932139,610.5, 700288,221.3],\n",
    "   [2014,318907401,1153022,361.6,14164,4.4,322905,101.3,1713153,537.2, 686803,215.4],\n",
    "   [2015,320896618,1199310,373.7,15883,4.9,328109,102.2,1587564,494.7, 713063,222.2],\n",
    "   [2016,323127513,1248185,386.3,17250,5.3,332198,102.8,1515096,468.9, 765484,236.9]])\n",
    "     \n",
    "    \n",
    "file_name = 'FBIdata.npy'\n",
    "np.save(file_name, X)"
   ]
  }
 ],
 "metadata": {
  "kernelspec": {
   "display_name": "Python 3 (ipykernel)",
   "language": "python",
   "name": "python3"
  },
  "language_info": {
   "codemirror_mode": {
    "name": "ipython",
    "version": 3
   },
   "file_extension": ".py",
   "mimetype": "text/x-python",
   "name": "python",
   "nbconvert_exporter": "python",
   "pygments_lexer": "ipython3",
   "version": "3.10.9"
  }
 },
 "nbformat": 4,
 "nbformat_minor": 5
}
