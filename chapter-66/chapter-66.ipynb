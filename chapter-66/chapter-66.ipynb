{
 "cells": [
  {
   "cell_type": "markdown",
   "metadata": {},
   "source": [
    "# Chapter 66: Deep Belief Networks"
   ]
  },
  {
   "cell_type": "markdown",
   "metadata": {},
   "source": [
    "### Runs simulations for Examples 2 and 3 in Chapter 66: Deep Belief Networks (vol. III)\n",
    "TEXT: A. H. Sayed, INFERENCE AND LEARNING FROM DATA, Cambridge University Press, 2022."
   ]
  },
  {
   "cell_type": "markdown",
   "metadata": {},
   "source": [
    "<div style=\"text-align: justify\">\n",
    "DISCLAIMER:  This computer code is  provided  \"as is\"   without  any  guarantees.\n",
    "Practitioners  should  use it  at their own risk.  While  the  codes in  the text \n",
    "are useful for instructional purposes, they are not intended to serve as examples \n",
    "of full-blown or optimized designs. The author has made no attempt at optimizing \n",
    "the codes, perfecting them, or even checking them for absolute accuracy. In order \n",
    "to keep the codes at a level  that is  easy to follow by students, the author has \n",
    "often chosen to  sacrifice  performance or even programming elegance in  lieu  of \n",
    "simplicity. Students can use the computer codes to run variations of the examples \n",
    "shown in the text. \n",
    "</div>\n",
    "\n",
    "The Jupyter notebook and python codes are developed by Eduardo Faria Cabrera"
   ]
  },
  {
   "cell_type": "markdown",
   "metadata": {},
   "source": [
    "required libraries:\n",
    "    \n",
    "1. numpy\n",
    "2. matplotlib\n",
    "3. scipy\n",
    "\n",
    "The other ones are not necessary"
   ]
  },
  {
   "cell_type": "code",
   "execution_count": 22,
   "metadata": {},
   "outputs": [],
   "source": [
    "import numpy as np\n",
    "from tqdm import tqdm\n",
    "import scipy\n",
    "import matplotlib.pyplot as plt\n",
    "from functions import *"
   ]
  },
  {
   "cell_type": "markdown",
   "metadata": {},
   "source": [
    "## Example 2 (Classification of handwritten digits)"
   ]
  },
  {
   "cell_type": "markdown",
   "metadata": {},
   "source": [
    "We illustrate the operation of the autoencoder and contrastive divergence schemes by using them to determine initial parameter conditions for the training of a multi-layer neural network. The network will be used to identify handwritten digits using \n",
    "the same MNIST dataset from Example 65.9. Recall that the MNIST dataset consists of 60,000 labeled training samples and 10,000 labeled testing samples. Each entry in the dataset is a 28 $\\times$ 28 grayscale image, which we transform into an $M=784-$long feature vector, $h_n$. Each pixel in the image and, therefore, each entry in $h_n$, assumes integer values in the range $[0,255]$. Every feature vector (or image) is assigned an integer label in the range $0$--$9$ depending on which digit the image corresponds to. The earlier Fig. 65.12 shows randomly selected images from the training dataset.\n",
    " \n",
    "In the simulations in this example, we select only 5000 random samples from the training dataset and 1000 random samples from the test dataset. The objective is to illustrate the enhancement that is provided by the autoencoder and contrastive divergence constructions. For this purpose, it is not necessary to run a full-blown simulation using the entire dataset.\n",
    " \n",
    "We use the 5000 training samples to train a neural network with $L=7$ layers (including the input layer, the output layer, and five hidden layers). The size of the input layer is $n_1=784$ (which agrees with the size of the feature vectors), while the size of the output layer is $n_7=10$ (which agrees with the number of classes). The size of the hidden layers is set to $n_{\\ell}=128$ neurons for $\\ell=2,3,4,5,6$ with sigmoidal activation functions. We employ a softmax layer at the output  and train  the network using a regularized cross-entropy criterion with parameters\n",
    "\n",
    "$\n",
    "\\mu=0.01,\\;\\;\\;\\rho=0.0001 \n",
    "$\n",
    "\n",
    "We pre-process the images (or the corresponding feature vectors $\\{h_n\\}$ by scaling their entries by $255$ (so that they assume values in the range $[0,1]$). We subsequently compute the sample mean feature vectors for the training and test sets. We center the scaled feature vectors around these means in both sets. We train the network using $200$ passes over the data with random reshuffling."
   ]
  },
  {
   "cell_type": "code",
   "execution_count": null,
   "metadata": {},
   "outputs": [],
   "source": [
    "# testing initialization using autoencoders and contrastive divergence\n",
    "\n",
    "# MNIST dataset\n",
    "data = scipy.io.loadmat(\"data/mnist_normalized.mat\") # loaded mnist data; features are centered and variance-normalized.\n",
    "N_train = 60000 # using this many samples for training\n",
    "N_test = 1000 # test samples\n",
    "PP = np.random.permutation(N_train)\n",
    "QQ = np.random.permutation(N_test)\n",
    "features_train = data[\"train_features_norm\"][PP] # random N_train feature vectors\n",
    "labels_train = data[\"train_norm_labels\"].reshape(-1)[PP]\n",
    "features_test = data[\"test_features_norm\"][QQ] # random N_test feature vectors\n",
    "labels_test = data[\"test_norm_labels\"].reshape(-1)[QQ] \n",
    "number_of_classes = 10 # 10 digit classes\n",
    "M = features_train.shape[-1]\n",
    "mu = 0.01 # step-size for training neural network\n",
    "rho = 0.0001 # l2-regularization for neural network\n",
    "number_of_passes = 30 # epochs\n",
    "mu_ac = 0.001 # step-size for auto-encoder\n",
    "rho_ac = 0 # l2-regularization for auto-encoder\n",
    "passes_ac = 30 # number of autoencoder passes over data\n",
    "mu_cd = 0.0001 # step-size for contrastive divergence\n",
    "passes_cd = 30 # number of constrastive divergence passes over data\n",
    "L = 7 # total number of layers, including input and output layers --> L-2 hidden layers\n",
    "nL = number_of_classes # size of output layer, which is equal to the number of labels\n",
    "n1 = features_train.shape[-1] # size of input layer, which is equal to M\n",
    "n2 = 128 # number of nodes in hidden layer 2\n",
    "n3 = 128 # number of nodes in hidden layer 3\n",
    "n4 = 128\n",
    "n5 = 128\n",
    "n6 = 128\n",
    "n7 = nL # same as output layer\n",
    "Q = nL # size of output layer; same as nL, which the number of classes as well.\n",
    "\n",
    "type_ = 1\n",
    "if type_ == 1:\n",
    "    activation = \"sigmoid\"\n",
    "elif type_ == 2:\n",
    "    activation = \"tanh\"\n",
    "elif type_ == 3:\n",
    "    activation = \"rectifier\"\n",
    "\n",
    "# Initialization\n",
    "H = features_train\n",
    "flag = 0 # entries of feature vector are real-valued\n",
    "\n",
    "error_test_init = np.zeros(3)\n",
    "error_train_init = np.zeros(3)\n",
    "\n",
    "for ix in range(3):\n",
    "    CD = ix # type of initialization\n",
    "            # 1: use contrastive divergence; 2: use autoencoders 3: use random initialization\n",
    "    if CD == 0:\n",
    "        print(\"Start Contrastive\")\n",
    "        # using constrastive divergence\n",
    "        W1, theta1, theta_r1 = contrastive_divergence(H, n2, mu_cd, flag, passes_cd)\n",
    "        H2 = forward(H, W1, theta1, 1) # using sigmoid function (type 1)\n",
    "\n",
    "        W2, theta2, theta_r2 = contrastive_divergence(H2, n3, mu_cd, flag, passes_cd)\n",
    "        H3 = forward(H2, W2, theta2, 1)\n",
    "\n",
    "        W3, theta3, theta_r3 = contrastive_divergence(H3, n4, mu_cd, flag, passes_cd)\n",
    "        H4 = forward(H3, W3, theta3, 1)\n",
    "\n",
    "        W4, theta4, theta_r4 = contrastive_divergence(H4, n5, mu_cd, flag, passes_cd)\n",
    "        H5 = forward(H4, W4, theta4, 1)\n",
    "\n",
    "        W5, theta5, theta_r5 = contrastive_divergence(H5, n6, mu_cd, flag, passes_cd)\n",
    "        H6 = forward(H5, W5, theta5, 1)\n",
    "\n",
    "        W6 = (1/np.sqrt(n6))*np.random.randn(n7, n6)\n",
    "        theta6 = np.random.randn(n7)\n",
    "\n",
    "    elif CD == 1:\n",
    "        # there are two types of activation functions in the auto-encoder implementation.\n",
    "        # One is the activation function in the hidden layer, say, a sigmoid\n",
    "        # The other is the activation function at the output, say, linear\n",
    "        t_output = 4 # activation at output: 1=sigmoid, 2=tanh, 3 = rectifier, 4 =linear\n",
    "        t_hidden = 1\n",
    "\n",
    "        print(\"Start Auto Encoder\")\n",
    "        W1, theta1 = auto_encoder(H, t_hidden, t_output, n2, mu_ac, rho_ac, passes_ac)\n",
    "        H2 = forward(H, W1, theta1, t_hidden)\n",
    "\n",
    "        W2, theta2 = auto_encoder(H2, t_hidden, t_output, n3, mu_ac, rho_ac, passes_ac)\n",
    "        H3 = forward(H2, W2, theta2, t_hidden)\n",
    "\n",
    "        W3, theta3 = auto_encoder(H3, t_hidden, t_output, n4, mu_ac, rho_ac, passes_ac)\n",
    "        H4 = forward(H3, W3, theta3, t_hidden)\n",
    "\n",
    "        W4, theta4 = auto_encoder(H4, t_hidden, t_output, n5, mu_ac, rho_ac, passes_ac)\n",
    "        H5 = forward(H4, W4, theta4, t_hidden)\n",
    "\n",
    "        W5, theta5 = auto_encoder(H5, t_hidden, t_output, n6, mu_ac, rho_ac, passes_ac)\n",
    "        H6 = forward(H5, W5, theta5, t_hidden)\n",
    "\n",
    "        W6 = (1/np.sqrt(n6))*np.random.randn(n7, n6)\n",
    "        theta6 = np.random.randn(n7)\n",
    "    \n",
    "    elif CD == 2:\n",
    "        # random initialization\n",
    "        print(\"Start Random Initialization\")\n",
    "        W1 = (1/np.sqrt(n1))*np.random.randn(n2, n1)\n",
    "        W2 = (1/np.sqrt(n2))*np.random.randn(n3, n2)\n",
    "        W3 = (1/np.sqrt(n3))*np.random.randn(n4, n3)\n",
    "        W4 = (1/np.sqrt(n4))*np.random.randn(n5, n4)\n",
    "        W5 = (1/np.sqrt(n5))*np.random.randn(n6, n5)\n",
    "        W6 = (1/np.sqrt(n6))*np.random.randn(n7, n6)\n",
    "\n",
    "        theta1 = np.random.randn(n2)\n",
    "        theta2 = np.random.randn(n3)\n",
    "        theta3 = np.random.randn(n4)\n",
    "        theta4 = np.random.randn(n5)\n",
    "        theta5 = np.random.randn(n6)\n",
    "        theta6 = np.random.randn(n7)\n",
    "\n",
    "    Wcell_init = [W1, W2, W3, W4, W5, W6] # a cell array containing the weight matrices of different dimensions\n",
    "    ThetaCell_init = [theta1, theta2, theta3, theta4, theta5, theta6] # a cell array for the thetas\n",
    "\n",
    "    layers = L # number of layers\n",
    "    act = type_ # activation function type\n",
    "    nc = number_of_classes # number of classes\n",
    "    passes = number_of_passes \n",
    "    error_test = 0\n",
    "    error_train = 0\n",
    "\n",
    "    print(\"Start training\")\n",
    "    Wcell, ThetaCell, error_test, error_train = nn_entropy_softmax(layers,act,nc,passes,mu,rho,features_train,labels_train,features_test,labels_test,Wcell_init,ThetaCell_init)\n",
    "\n",
    "    print(\"Type of initialization\", CD)\n",
    "\n",
    "    print(\"Performance on test data\", N_test, error_test, 100*error_test/N_test)\n",
    "\n",
    "    print(\"Performance on train data\", N_train, error_train, 100*error_train/N_train)\n",
    "\n",
    "    error_test_init[CD] = error_test \n",
    "    error_train_init[CD] = error_train\n",
    "\n",
    "100*error_test_init/N_test, 100*error_train_init/N_train"
   ]
  },
  {
   "cell_type": "code",
   "execution_count": 21,
   "metadata": {},
   "outputs": [
    {
     "data": {
      "text/plain": [
       "(array([7.7, 2.6, 3.3]), array([6.50666667, 1.84833333, 2.025     ]))"
      ]
     },
     "execution_count": 21,
     "metadata": {},
     "output_type": "execute_result"
    }
   ],
   "source": [
    "100*error_test_init/N_test, 100*error_train_init/N_train"
   ]
  },
  {
   "cell_type": "markdown",
   "metadata": {},
   "source": [
    "$\n",
    "\\begin{array}{|c|c|c|}\n",
    "\\hline\n",
    "\\textnormal{Initialization} & \\textnormal{Empirical test error (\\%)} & \\textnormal{Empirical training error (\\%)} \\\\ \\hline \n",
    "\\textnormal{Gaussian} & 87.4\\% & 88.7\\% \\\\\n",
    "\\textnormal{autoencoder} & 11.5\\% & 0.00\\% \\\\\n",
    "\\textnormal{contrastive divergene} & 16.6\\% & 1.86\\%\\\\ \\hline \n",
    "\\end{array}\n",
    "$"
   ]
  },
  {
   "cell_type": "markdown",
   "metadata": {},
   "source": [
    "We use three different initialization procedures for setting the parameters \n",
    "$\\{W_{\\ell},\\theta_{\\ell}\\}$ before applying the backpropagation procedure (65.150) for cross-entropy risk minimization with a softmax output layer: (a) random Gaussian initial conditions as explained in  Section 65.5; (b) initial conditions obtained by means of the autoencoder structure using \n",
    "\n",
    "$\n",
    "\\mu_{\\textnormal{ac}}=0.001,\\;\\;\\;\\rho_{\\textnormal{ac}}=0\\;\\;\\;(\\textnormal{autoencoder training})\n",
    "$\n",
    "\n",
    "for the backpropagation iterations during the training of the individual autoencoder stages; and (c) initial conditions obtained by means of the contrastive divergence structure using \n",
    "\n",
    "$\\mu_{\\textnormal{cd}}=0.0001\\;\\;\\;(\\textnormal{contrastive divergence training})\n",
    "$\n",
    "\n",
    "for the backpropagation iterations during the training of the individual contrastive divergence stages. The training within the autoencoder and contrastive divergence stages employs 100 passes over the data with random reshuffling. The empirical errors rates are summarized in \n",
    "Table 66.1. These errors are computed over the 1000 test samples and 5000 training samples. "
   ]
  },
  {
   "cell_type": "markdown",
   "metadata": {},
   "source": [
    "## Example 3 (Generation of handwritten digits using a deep belief network)"
   ]
  },
  {
   "cell_type": "markdown",
   "metadata": {},
   "source": [
    "We illustrate the operation of the deep belief network by applying it to the problem of learning to generate \"handwritten digits\" that are similar to the ones arising from the same MNIST dataset considered earlier in Examples 52.3 and 66.2. Recall that the MNIST dataset consists of 60,000 labeled training samples. Each entry in the dataset is a 28 $\\times$ 28 grayscale image, which we transform into an $M=784-$long feature vector, $h_n$. Each pixel in the image and, therefore, each entry in $h_n$, assumes integer values in the range $[0,255]$. We transform these entries into binary values by thresholding all pixel values above 127 to 1 and all values less than or equal to 127 to 0.  For comparison purposes, Fig. 66.9 shows a random selection of eight images before and after transformation into the binary representation."
   ]
  },
  {
   "cell_type": "code",
   "execution_count": 56,
   "metadata": {},
   "outputs": [
    {
     "name": "stdout",
     "output_type": "stream",
     "text": [
      "done transforming to binary features\n"
     ]
    },
    {
     "data": {
      "image/png": "[encoded data removed]",
      "text/plain": [
       "<Figure size 700x700 with 16 Axes>"
      ]
     },
     "metadata": {},
     "output_type": "display_data"
    }
   ],
   "source": [
    "# MNIST dataset \n",
    "data = scipy.io.loadmat(\"data/mnist.mat\")\n",
    "train_features = data[\"trainX\"] # 60,000 rows x 784 columns; each row is a training feature for one image\n",
    "train_labels = data[\"trainY\"] # 60,000 rows x 1   column; each row is the label 0-9\n",
    "N = 60000 # using this many samples for training\n",
    "M = 784\n",
    "\n",
    "mu_cd = 0.0001 # step-size for contrastive divergence\n",
    "passes_cd = 50 # number of contrastive divergence passes over data\n",
    "L = 7 # total number of layers, including input and output layers --> L-2 hidden layers\n",
    "nL = 10 # size of output layer, which is equal to the number of labels\n",
    "n1 = M # size of input layer, which is equal to M\n",
    "n2 = 128 # number of nodes in hidden layer 2 \n",
    "n3 = 128 # number of nodes in hidden layer 3\n",
    "n4 = 128\n",
    "n5 = 128\n",
    "n6 = 128\n",
    "n7 = nL # same as output layer\n",
    "Q = nL # size of output layer; same as nL, which the number of classes as well.\n",
    "ITER = 100 # run this many Gibbs sampling iterations at last RBM during generation\n",
    "\n",
    "type_ = 1  # use sigmoid activation function\n",
    "flag = 1 # entries of feature vector are binary-valued\n",
    "\n",
    "# transform features into binary vector\n",
    "PP = np.random.permutation(N) # random permutation\n",
    "H = np.zeros((N, M))\n",
    "for n in range(N):\n",
    "    nx = PP[n]\n",
    "    hx = train_features[nx]\n",
    "    y = hx > 127\n",
    "    H[n] = y.copy() # transform to binary 0,1 entries: larger than 127 set to 1; smaller to zero\n",
    "\n",
    "print(\"done transforming to binary features\")\n",
    "\n",
    "# displaysing some random images with integer and binary pixels\n",
    "# figure 9 (images from MNIST)\n",
    "\n",
    "plt.rcParams.update({\n",
    "    \"text.usetex\": True,\n",
    "    \"font.family\": \"sans-serif\",\n",
    "    \"font.sans-serif\": \"Helvetica\",\n",
    "})\n",
    "\n",
    "plt.rcParams['figure.figsize']=7, 7\n",
    "fig = plt.figure()\n",
    "\n",
    "for ib in range(8):\n",
    "    n = np.random.randint(N)\n",
    "    h = H[n] # image with binaty pixels 0,1\n",
    "    hr = train_features[PP[n]] # original real image\n",
    "    image_x = h.reshape((28, 28))\n",
    "    image_r = hr.reshape((28, 28))\n",
    "\n",
    "    if ib == 0:\n",
    "        ax = fig.add_subplot(441)\n",
    "        ax.imshow(image_x, cmap=\"gray\") # show it in grayscale\n",
    "        ax.set_title(\"Binary\")\n",
    "        plt.axis('off')        \n",
    "        ax = fig.add_subplot(445)\n",
    "        ax.imshow(image_r, cmap=\"gray\") # show it in grayscale\n",
    "        ax.set_title(\"Original\")\n",
    "        plt.axis('off') \n",
    "    if ib == 1:\n",
    "        ax = fig.add_subplot(442)\n",
    "        ax.imshow(image_x, cmap=\"gray\") # show it in grayscale\n",
    "        ax.set_title(\"Binary\")\n",
    "        plt.axis('off')        \n",
    "        ax = fig.add_subplot(446)\n",
    "        ax.imshow(image_r, cmap=\"gray\") # show it in grayscale\n",
    "        ax.set_title(\"Original\")\n",
    "        plt.axis('off') \n",
    "    if ib == 2:\n",
    "        ax = fig.add_subplot(443)\n",
    "        ax.imshow(image_x, cmap=\"gray\") # show it in grayscale\n",
    "        ax.set_title(\"Binary\")\n",
    "        plt.axis('off')        \n",
    "        ax = fig.add_subplot(447)\n",
    "        ax.imshow(image_r, cmap=\"gray\") # show it in grayscale\n",
    "        ax.set_title(\"Original\")\n",
    "        plt.axis('off') \n",
    "    if ib == 3:\n",
    "        ax = fig.add_subplot(444)\n",
    "        ax.imshow(image_x, cmap=\"gray\") # show it in grayscale\n",
    "        ax.set_title(\"Binary\")\n",
    "        plt.axis('off')        \n",
    "        ax = fig.add_subplot(448)\n",
    "        ax.imshow(image_r, cmap=\"gray\") # show it in grayscale\n",
    "        ax.set_title(\"Original\")\n",
    "        plt.axis('off') \n",
    "    if ib == 4:\n",
    "        ax = fig.add_subplot(449)\n",
    "        ax.imshow(image_x, cmap=\"gray\") # show it in grayscale\n",
    "        ax.set_title(\"Binary\")\n",
    "        plt.axis('off')        \n",
    "        ax = fig.add_subplot(4, 4, 13)\n",
    "        ax.imshow(image_r, cmap=\"gray\") # show it in grayscale\n",
    "        ax.set_title(\"Original\")\n",
    "        plt.axis('off') \n",
    "    if ib == 5:\n",
    "        ax = fig.add_subplot(4, 4, 10)\n",
    "        ax.imshow(image_x, cmap=\"gray\") # show it in grayscale\n",
    "        ax.set_title(\"Binary\")\n",
    "        plt.axis('off')        \n",
    "        ax = fig.add_subplot(4, 4, 14)\n",
    "        ax.imshow(image_r, cmap=\"gray\") # show it in grayscale\n",
    "        ax.set_title(\"Original\")\n",
    "        plt.axis('off') \n",
    "    if ib == 6:\n",
    "        ax = fig.add_subplot(4, 4, 11)\n",
    "        ax.imshow(image_x, cmap=\"gray\") # show it in grayscale\n",
    "        ax.set_title(\"Binary\")\n",
    "        plt.axis('off')        \n",
    "        ax = fig.add_subplot(4, 4, 15)\n",
    "        ax.imshow(image_r, cmap=\"gray\") # show it in grayscale\n",
    "        ax.set_title(\"Original\")\n",
    "        plt.axis('off') \n",
    "    if ib == 7:\n",
    "        ax = fig.add_subplot(4, 4, 12)\n",
    "        ax.imshow(image_x, cmap=\"gray\") # show it in grayscale\n",
    "        ax.set_title(\"Binary\")\n",
    "        plt.axis('off')        \n",
    "        ax = fig.add_subplot(4, 4, 16)\n",
    "        ax.imshow(image_r, cmap=\"gray\") # show it in grayscale\n",
    "        ax.set_title(\"Original\")\n",
    "        plt.axis('off') \n",
    "\n",
    "fig.tight_layout()\n",
    "\n",
    "plt.savefig(\"figs/fig-9.pdf\", format=\"pdf\", bbox_inches=\"tight\")\n",
    "\n",
    "plt.show()"
   ]
  },
  {
   "cell_type": "markdown",
   "metadata": {},
   "source": [
    "**Figure 66.9** The top row shows four randomly selected images after pixel transformation to binary values along with the original images in the second row with pixel values in the range $[0,255]$. The same display is repeated in the last two rows for another collection of four random images."
   ]
  },
  {
   "cell_type": "markdown",
   "metadata": {},
   "source": [
    "We construct a deep belief network with seven total layers with sigmoidal units, including the last RBM layer, in a manner similar to Fig. 66.8. The signals at the successive layers are denoted by $\\{h,z_{2},z_{3},\\ldots, z_{7}\\}$. The number of hidden units in each layer from left to right is\n",
    "\n",
    "$\n",
    "n_1=784,\\;n_2=128,\\;n_3=128,\\;n_4=128,\\;n_5=128,\\;n_6=128,\\;n_7=10\n",
    "$\n",
    "\n",
    "We set the step size for the contrastive divergence procedure to $\\mu_{\\textnormal{cd}}=0.0001$. Initially, we train each RBM separately, as explained before, using the binary-valued feature vectors from the MNIST dataset. Each RBM is trained for $1000$ iterations using binary data. Once training is complete, we generate 16 random vectors $\\{z_7\\}$ at the far right of the deep belief network, with binary entries. We propagate each vector $z_7$ through the network as follows. First, we perform 100 Gibbs sampling steps at the far-right RBM layer to determine $z_6$. Then, we propagate $z_6$ through the earlier sigmoidal sections, as described prior to the example. During these steps, we propagate the real-valued signals through the layers (i.e., the outputs of the sigmoidal units). In this way, we arrive at a feature vector $h$ for each $z_7$. Figure 66.10 shows 16 random images generated in this manner. The purpose of this example is to illustrate the general principle behind the operation of the network without focusing on perfecting its parameters or performance."
   ]
  },
  {
   "cell_type": "code",
   "execution_count": 58,
   "metadata": {},
   "outputs": [
    {
     "name": "stdout",
     "output_type": "stream",
     "text": [
      "Start Contrastive\n"
     ]
    },
    {
     "name": "stderr",
     "output_type": "stream",
     "text": [
      "100%|██████████| 50/50 [2:04:54<00:00, 149.89s/it]  \n"
     ]
    },
    {
     "name": "stdout",
     "output_type": "stream",
     "text": [
      "Done 1\n"
     ]
    },
    {
     "name": "stderr",
     "output_type": "stream",
     "text": [
      "100%|██████████| 50/50 [40:17<00:00, 48.35s/it]\n"
     ]
    },
    {
     "name": "stdout",
     "output_type": "stream",
     "text": [
      "Done 2\n"
     ]
    },
    {
     "name": "stderr",
     "output_type": "stream",
     "text": [
      "100%|██████████| 50/50 [40:36<00:00, 48.73s/it]\n"
     ]
    },
    {
     "name": "stdout",
     "output_type": "stream",
     "text": [
      "Done 3\n"
     ]
    },
    {
     "name": "stderr",
     "output_type": "stream",
     "text": [
      "100%|██████████| 50/50 [40:59<00:00, 49.19s/it]\n"
     ]
    },
    {
     "name": "stdout",
     "output_type": "stream",
     "text": [
      "Done 4\n"
     ]
    },
    {
     "name": "stderr",
     "output_type": "stream",
     "text": [
      "100%|██████████| 50/50 [40:44<00:00, 48.88s/it]\n"
     ]
    },
    {
     "name": "stdout",
     "output_type": "stream",
     "text": [
      "Done 6\n"
     ]
    },
    {
     "name": "stderr",
     "output_type": "stream",
     "text": [
      "100%|██████████| 50/50 [14:44<00:00, 17.70s/it]\n"
     ]
    },
    {
     "name": "stdout",
     "output_type": "stream",
     "text": [
      "Done RBM\n"
     ]
    }
   ],
   "source": [
    "# run contrastive divergence to train RBMs\n",
    "print(\"Start Contrastive\")\n",
    "# using constrastive divergence\n",
    "W1, theta1, theta_r1 = contrastive_divergence(H, n2, mu_cd, flag, passes_cd)\n",
    "H2x = forward(H, W1, theta1, 1) # using sigmoid function (type 1)\n",
    "H2 = rand_bernoulli_matrix(H2x)\n",
    "print(\"Done 1\")\n",
    "\n",
    "W2, theta2, theta_r2 = contrastive_divergence(H2, n3, mu_cd, flag, passes_cd)\n",
    "H3x = forward(H2, W2, theta2, 1)\n",
    "H3 = rand_bernoulli_matrix(H3x)\n",
    "print(\"Done 2\")\n",
    "\n",
    "W3, theta3, theta_r3 = contrastive_divergence(H3, n4, mu_cd, flag, passes_cd)\n",
    "H4x = forward(H3, W3, theta3, 1)\n",
    "H4 = rand_bernoulli_matrix(H4x)\n",
    "print(\"Done 3\")\n",
    "\n",
    "W4, theta4, theta_r4 = contrastive_divergence(H4, n5, mu_cd, flag, passes_cd)\n",
    "H5x = forward(H4, W4, theta4, 1)\n",
    "H5 = rand_bernoulli_matrix(H5x)\n",
    "print(\"Done 4\")\n",
    "\n",
    "W5, theta5, theta_r5 = contrastive_divergence(H5, n6, mu_cd, flag, passes_cd)\n",
    "H6x = forward(H5, W5, theta5, 1)\n",
    "H6 = rand_bernoulli_matrix(H6x)\n",
    "print(\"Done 6\")\n",
    "\n",
    "W6, theta6, theta_r6 = contrastive_divergence(H6, n7, mu_cd, flag, passes_cd)\n",
    "H7x = forward(H6, W6, theta6, 1)\n",
    "H7 = rand_bernoulli_matrix(H7x)\n",
    "print(\"Done RBM\")\n",
    "\n",
    "# Now we test the deep belief network as a generative model\n",
    "# We feed a random binary-valued vector and see the image that is generated"
   ]
  },
  {
   "cell_type": "code",
   "execution_count": 61,
   "metadata": {},
   "outputs": [
    {
     "data": {
      "image/png": "[encoded data removed]",
      "text/plain": [
       "<Figure size 700x700 with 16 Axes>"
      ]
     },
     "metadata": {},
     "output_type": "display_data"
    }
   ],
   "source": [
    "# figure 10 (generated figures)\n",
    "\n",
    "plt.rcParams.update({\n",
    "    \"text.usetex\": True,\n",
    "    \"font.family\": \"sans-serif\",\n",
    "    \"font.sans-serif\": \"Helvetica\",\n",
    "})\n",
    "\n",
    "plt.rcParams['figure.figsize']=7, 7\n",
    "fig = plt.figure()\n",
    "\n",
    "for ib in range(16):\n",
    "    z7 = np.zeros(n7)\n",
    "    for n in range(n7):\n",
    "        z7[n] = np.random.randint(2)\n",
    "    for i in range(ITER): # last RBM; several Gibbs sampling steps\n",
    "        z6y = W6.T@z7 - theta_r6\n",
    "        z6 = apply_activation(1, z6y) # sigmoid\n",
    "        z6b = rand_bernoulli(z6)\n",
    "        xp = W6@z6b - theta6 \n",
    "        z7x = apply_activation(1, xp)\n",
    "        z7 = rand_bernoulli(z7x)\n",
    "\n",
    "    # use the resulting z6 propagate it through sigmoidal sections without binary transformations\n",
    "    z5y = W5.T@z6 - theta_r5 \n",
    "    z5 = apply_activation(1, z5y)\n",
    "\n",
    "    z4y = W4.T@z5 - theta_r4 \n",
    "    z4 = apply_activation(1, z4y)\n",
    "\n",
    "    z3y = W3.T@z4 - theta_r3\n",
    "    z3 = apply_activation(1, z3y)\n",
    "\n",
    "    z2y = W2.T@z3 - theta_r2 \n",
    "    z2 = apply_activation(1, z2y)\n",
    "\n",
    "    z1y = W1.T@z2 - theta_r1 \n",
    "    hx = apply_activation(1, z1y) # real valued between (0, 1)\n",
    "    hb = rand_bernoulli(hx) # binary pixels {0, 1}\n",
    "\n",
    "    image_binary = hb.reshape(28, 28)\n",
    "    image_real = hx.reshape(28, 28)\n",
    "\n",
    "    ax = fig.add_subplot(4, 4, ib+1)\n",
    "    ax.imshow(image_real, cmap=\"gray\") # show it in grayscale\n",
    "    plt.axis('off')        \n",
    "    \n",
    "\n",
    "fig.tight_layout()\n",
    "\n",
    "plt.savefig(\"figs/fig-10.pdf\", format=\"pdf\", bbox_inches=\"tight\")\n",
    "\n",
    "plt.show()"
   ]
  },
  {
   "cell_type": "markdown",
   "metadata": {},
   "source": [
    "**Figure 66.10** Random images generated by a deep belief network with 7 layers. The last RBM layer has $10$ output units and $128$ hidden units. "
   ]
  }
 ],
 "metadata": {
  "kernelspec": {
   "display_name": "epfl",
   "language": "python",
   "name": "python3"
  },
  "language_info": {
   "codemirror_mode": {
    "name": "ipython",
    "version": 3
   },
   "file_extension": ".py",
   "mimetype": "text/x-python",
   "name": "python",
   "nbconvert_exporter": "python",
   "pygments_lexer": "ipython3",
   "version": "3.11.4"
  },
  "orig_nbformat": 4
 },
 "nbformat": 4,
 "nbformat_minor": 2
}
