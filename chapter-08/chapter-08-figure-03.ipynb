{
 "cells": [
  {
   "cell_type": "markdown",
   "id": "f4211db1",
   "metadata": {},
   "source": [
    "# CHAPTER 8: Convex Functions"
   ]
  },
  {
   "cell_type": "markdown",
   "id": "a05fd093",
   "metadata": {},
   "source": [
    "### This code generates Figure 3 from Chapter 8: Convex Functions (vol I)\n",
    "TEXT: A. H. Sayed, INFERENCE AND LEARNING FROM DATA, Cambridge University Press, 2022."
   ]
  },
  {
   "cell_type": "markdown",
   "id": "7f97dcb3",
   "metadata": {},
   "source": [
    "<div style=\"text-align: justify\">\n",
    "DISCLAIMER:  This computer code is  provided  \"as is\"   without  any  guarantees.\n",
    "Practitioners  should  use it  at their own risk.  While  the  codes in  the text \n",
    "are useful for instructional purposes, they are not intended to serve as examples \n",
    "of full-blown or optimized designs. The author has made no attempt at optimizing \n",
    "the codes, perfecting them, or even checking them for absolute accuracy. In order \n",
    "to keep the codes at a level  that is  easy to follow by students, the author has \n",
    "often chosen to  sacrifice  performance or even programming elegance in  lieu  of \n",
    "simplicity. Students can use the computer codes to run variations of the examples \n",
    "shown in the text. \n",
    "</div>\n",
    "\n",
    "The Jupyter notebook and python codes are developed by Semanur Avşar "
   ]
  },
  {
   "cell_type": "markdown",
   "id": "f7cdd491",
   "metadata": {},
   "source": [
    "## *Strong Convexity*\n",
    "\n",
    "Comparing $(8.19)$ with $(8.17)$, we conclude that strong convexity implies strict convexity. Therefore, every strongly convex function has a unique global minimum as well. Nevertheless, strong convexity is a stronger requirement than strict convexity so that functions exist that are strictly convex but not necessarily strongly convex. For example, for scalar arguments $z$, the function $g(z)=z^4$ is strictly convex but not strongly convex. On the other hand, the function $g(z)=z^2$ is strongly convex --- see Fig.$~8.3$. In summary, it holds that:\n",
    "\n",
    "$$\n",
    "{\n",
    "\\bf\\mbox{strong convexity}\\;\\Longrightarrow\\;\\mbox{strict convexity}\\;\\Longrightarrow\\;\n",
    "\\mbox{convexity}}\n",
    "$$"
   ]
  },
  {
   "cell_type": "code",
   "execution_count": 3,
   "id": "83d72b95",
   "metadata": {},
   "outputs": [
    {
     "data": {
      "image/png": "[encoded data removed]",
      "text/plain": [
       "<Figure size 900x600 with 1 Axes>"
      ]
     },
     "metadata": {},
     "output_type": "display_data"
    }
   ],
   "source": [
    "import numpy as np\n",
    "import matplotlib.pyplot as plt\n",
    "\n",
    "n = 0\n",
    "x_values = np.arange(-1.5, 1.51, 0.01)\n",
    "g1 = np.zeros_like(x_values)\n",
    "g2 = np.zeros_like(x_values)\n",
    "\n",
    "for x in x_values:\n",
    "    g1[n] = x**4\n",
    "    g2[n] = x**2\n",
    "    n += 1\n",
    "\n",
    "# figure 3 (illustrating strictly vs strongly-convex functions)\n",
    "plt.rcParams.update({\n",
    "    \"text.usetex\": True,\n",
    "    \"font.family\": \"sans-serif\",\n",
    "    \"font.sans-serif\": \"Helvetica\",\n",
    "})\n",
    "\n",
    "plt.rcParams['figure.figsize']=9,6\n",
    "plt.figure()\n",
    "\n",
    "plt.subplot(221)\n",
    "plt.plot(x_values, g1, '-b', label='$g_1(z) = z^4$')\n",
    "plt.plot(x_values, g2, '-r', label='$g_2(z) = z^2$')\n",
    "plt.xlabel('$z$', fontsize=12)\n",
    "plt.ylabel('$g(z)$', fontsize=12)\n",
    "plt.grid(True)\n",
    "plt.axis('tight')\n",
    "plt.legend()\n",
    "\n",
    "plt.show()"
   ]
  },
  {
   "cell_type": "markdown",
   "id": "2d9ee91e",
   "metadata": {},
   "source": [
    "**Figure $8.3$** The function $g(z)=z^4$ is strictly convex but not strongly convex, while the function $g(z)=z^2$ is strongly convex. Observe how $g(z)=z^4$ is more flat around its global minimizer and moves away from it more slowly than in the quadratic case. "
   ]
  },
  {
   "cell_type": "code",
   "execution_count": null,
   "id": "3f840c42",
   "metadata": {},
   "outputs": [],
   "source": []
  }
 ],
 "metadata": {
  "kernelspec": {
   "display_name": "Python 3 (ipykernel)",
   "language": "python",
   "name": "python3"
  },
  "language_info": {
   "codemirror_mode": {
    "name": "ipython",
    "version": 3
   },
   "file_extension": ".py",
   "mimetype": "text/x-python",
   "name": "python",
   "nbconvert_exporter": "python",
   "pygments_lexer": "ipython3",
   "version": "3.10.9"
  }
 },
 "nbformat": 4,
 "nbformat_minor": 5
}
