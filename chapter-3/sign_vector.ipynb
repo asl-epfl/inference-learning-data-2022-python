{
 "cells": [
  {
   "cell_type": "markdown",
   "id": "a9a63c4f",
   "metadata": {},
   "source": [
    "# function s = sign_vector(w)"
   ]
  },
  {
   "cell_type": "markdown",
   "id": "3498fff8",
   "metadata": {},
   "source": [
    "### This function returns a sign column vector with +- 1 entries\n",
    "\n",
    "TEXT: A. H. Sayed, INFERENCE AND LEARNING FROM DATA, Cambridge University Press, 2022."
   ]
  },
  {
   "cell_type": "markdown",
   "id": "65b753cf",
   "metadata": {},
   "source": [
    "<div style=\"text-align: justify\">\n",
    "DISCLAIMER:  This computer code is  provided  \"as is\"   without  any  guarantees.\n",
    "Practitioners  should  use it  at their own risk.  While  the  codes in  the text \n",
    "are useful for instructional purposes, they are not intended to serve as examples \n",
    "of full-blown or optimized designs.  The author has made no attempt at optimizing \n",
    "the codes, perfecting them, or even checking them for absolute accuracy. In order \n",
    "to keep the codes at a level  that is  easy to follow by students, the author has \n",
    "often chosen to  sacrifice  performance or even programming elegance in  lieu  of \n",
    "simplicity. Students can use the computer codes to run variations of the examples \n",
    "shown in the text. \n",
    "</div>\n",
    "\n",
    "The Jupyter notebook and python codes are developed by Saba Nasiri. "
   ]
  },
  {
   "cell_type": "markdown",
   "id": "b5c89d49",
   "metadata": {},
   "source": [
    "required libraries:\n",
    "    \n",
    "1. numpy"
   ]
  },
  {
   "cell_type": "code",
   "execution_count": 8,
   "id": "7de414d4",
   "metadata": {},
   "outputs": [],
   "source": [
    "import numpy as np"
   ]
  },
  {
   "cell_type": "code",
   "execution_count": 9,
   "id": "8ea03df0",
   "metadata": {},
   "outputs": [],
   "source": [
    "def sign_vector(w):\n",
    "    M = max(w.shape)\n",
    "    s = np.zeros((M,1))\n",
    "    for m in range(M):\n",
    "        if w[m]>=0 :\n",
    "            s[m] = 1\n",
    "            \n",
    "        else:\n",
    "            s[m] = -1\n",
    "            \n",
    "            \n",
    "    return s"
   ]
  },
  {
   "cell_type": "code",
   "execution_count": null,
   "id": "ebd6e861",
   "metadata": {},
   "outputs": [],
   "source": []
  }
 ],
 "metadata": {
  "kernelspec": {
   "display_name": "Python 3 (ipykernel)",
   "language": "python",
   "name": "python3"
  },
  "language_info": {
   "codemirror_mode": {
    "name": "ipython",
    "version": 3
   },
   "file_extension": ".py",
   "mimetype": "text/x-python",
   "name": "python",
   "nbconvert_exporter": "python",
   "pygments_lexer": "ipython3",
   "version": "3.9.13"
  }
 },
 "nbformat": 4,
 "nbformat_minor": 5
}
